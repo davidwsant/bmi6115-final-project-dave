{
 "cells": [
  {
   "cell_type": "markdown",
   "metadata": {},
   "source": [
    "# Extract the HbA1c values from MIMIC-III dataset documents"
   ]
  },
  {
   "cell_type": "markdown",
   "metadata": {},
   "source": [
    "In this notebook I will be developing a python script for extracting the HbA1c values from text documents. The main thing I am looking for is going to be A1c followed by some value.\n",
    "\n",
    "I will be using PyConText to accomplish this task. I have found when experimenting with PyConText on the MIMIC-III dataset that you sometimes get some very odd things that come back when you use modifiers with numbers, so I am going to use one regular expression to obtain both the mention of HbA1c and the value. I will then remove everything that is not the number to obtain the actual value. \n",
    "\n",
    "This notebook is almost identical to the previous notebook, except that in this notebook I am running this on the test dataset. \n"
   ]
  },
  {
   "cell_type": "markdown",
   "metadata": {},
   "source": [
    "First step, import PyConText and define the functions (taken from the PyConText github page and modified with help from Jeff Ferraro) so that I can run the actual text parsing. "
   ]
  },
  {
   "cell_type": "code",
   "execution_count": 1,
   "metadata": {},
   "outputs": [],
   "source": [
    "import pyConTextNLP.pyConText as pyConText\n",
    "# itemData has been rewritten, so that it can take relative local path, where you can redirect it to your customized yml files later\n",
    "import os\n",
    "import itemData\n",
    "import re\n",
    "import glob\n",
    "import pandas as pd\n",
    "from xml.etree import ElementTree\n",
    "import math\n"
   ]
  },
  {
   "cell_type": "code",
   "execution_count": 2,
   "metadata": {
    "scrolled": true
   },
   "outputs": [],
   "source": [
    "my_targets=itemData.get_items('Yaml_Files/A1c_targets.yml')\n",
    "my_modifiers=itemData.get_items('Yaml_Files/A1c_modifiers.yml')"
   ]
  },
  {
   "cell_type": "markdown",
   "metadata": {},
   "source": [
    "The functions *markup_sentence* and *markup_doc* were both ones that we went over in the NLP lab."
   ]
  },
  {
   "cell_type": "code",
   "execution_count": 3,
   "metadata": {},
   "outputs": [],
   "source": [
    "## This one is the same, it just doesn't split it into sentences. \n",
    "def markup_sentence(s, modifiers, targets, prune_inactive=True):\n",
    "    \"\"\"\n",
    "    \"\"\"\n",
    "    markup = pyConText.ConTextMarkup()\n",
    "    markup.setRawText(s)\n",
    "    markup.cleanText()\n",
    "    markup.markItems(my_modifiers, mode=\"modifier\")\n",
    "    markup.markItems(my_targets, mode=\"target\")\n",
    "    markup.pruneMarks()\n",
    "    markup.dropMarks('Exclusion')\n",
    "    # apply modifiers to any targets within the modifiers scope\n",
    "    markup.applyModifiers()\n",
    "    markup.pruneSelfModifyingRelationships()\n",
    "    if prune_inactive:\n",
    "        markup.dropInactiveModifiers()\n",
    "    return markup\n",
    "\n",
    "def markup_doc(doc_text:str)->pyConText.ConTextDocument:\n",
    "    rslts=[]\n",
    "    context = pyConText.ConTextDocument()\n",
    "    #for s in doc_text.split('.'):\n",
    "    m = markup_sentence(doc_text, modifiers=my_modifiers, targets=my_targets)\n",
    "    rslts.append(m)\n",
    "\n",
    "    for r in rslts:\n",
    "        context.addMarkup(r)\n",
    "    return context\n",
    "\n",
    "def get_output(something):\n",
    "    context=markup_doc(something)\n",
    "    output = context.getDocumentGraph()\n",
    "    return output"
   ]
  },
  {
   "cell_type": "markdown",
   "metadata": {},
   "source": [
    "Ok, I have figured out how to get the pieces of a node that I can use for every node. I can put these into lists and then add the lists into a dataframe, then transpose the dataframe and I can have something to work with. The next step is going to be reading in the documents and figuring out how to apply "
   ]
  },
  {
   "cell_type": "code",
   "execution_count": 4,
   "metadata": {},
   "outputs": [
    {
     "data": {
      "text/plain": [
       "['.DS_Store',\n",
       " 'Training_Dataset',\n",
       " 'test_files.txt',\n",
       " 'Testing_Dataset',\n",
       " 'list_of_Files.txt']"
      ]
     },
     "execution_count": 4,
     "metadata": {},
     "output_type": "execute_result"
    }
   ],
   "source": [
    "os.listdir('Text_Files/')"
   ]
  },
  {
   "cell_type": "code",
   "execution_count": 5,
   "metadata": {
    "scrolled": true
   },
   "outputs": [
    {
     "name": "stdout",
     "output_type": "stream",
     "text": [
      "75\n"
     ]
    },
    {
     "data": {
      "text/plain": [
       "['Text_Files/Testing_Dataset/750400.txt',\n",
       " 'Text_Files/Testing_Dataset/1520872.txt',\n",
       " 'Text_Files/Testing_Dataset/1671892.txt']"
      ]
     },
     "execution_count": 5,
     "metadata": {},
     "output_type": "execute_result"
    }
   ],
   "source": [
    "import glob\n",
    "list_of_files = glob.glob(\"Text_Files/Testing_Dataset/*.txt\") # New Folder\n",
    "print(len(list_of_files))\n",
    "list_of_files[0:3]\n",
    "#len(list_of_files)"
   ]
  },
  {
   "cell_type": "code",
   "execution_count": 6,
   "metadata": {},
   "outputs": [
    {
     "name": "stdout",
     "output_type": "stream",
     "text": [
      "['750400', '1520872', '1671892', '502100', '542040', '460197', '612341', '499708', '1874098', '1028562']\n"
     ]
    }
   ],
   "source": [
    "replaced_list = [w.replace('Text_Files/Testing_Dataset/', '') for w in list_of_files] # New Folder\n",
    "list_of_identifiers = [i.replace(\".txt\", \"\") for i in replaced_list] \n",
    "print(list_of_identifiers[0:10])"
   ]
  },
  {
   "cell_type": "code",
   "execution_count": 7,
   "metadata": {},
   "outputs": [],
   "source": [
    "list_of_text = [] \n",
    "for file in list_of_files:\n",
    "    text_file = open(file, 'r')\n",
    "    list_of_text.append(text_file.read()) # Not Readlines\n",
    "    text_file.close()"
   ]
  },
  {
   "cell_type": "code",
   "execution_count": 8,
   "metadata": {
    "scrolled": true
   },
   "outputs": [
    {
     "name": "stdout",
     "output_type": "stream",
     "text": [
      "[**2642-3-27**] 11:24 AM\n",
      " CHEST (PORTABLE AP)                                             Clip # [**Clip Number (Radiology) 107400**]\n",
      " Reason: please confirm right arm picc tip; page 0-2443 with results.\n",
      " ______________________________________________________________________________\n",
      " UNDERLYING MEDICAL CONDITION:\n",
      "  63 year old woman with bilateral pneumococcal pneumonia with effusions,\n",
      "  sepsis, s/p tube thoracostomy and now s/p tracheostomy with new NG tube\n",
      "  placement.\n",
      "\n",
      "  Requiring longterm access with triple lumen cl out.\n",
      " REASON FOR THIS EXAMINATION:\n",
      "  please confirm right arm picc tip; page 0-2443 with results. thanks\n",
      " ______________________________________________________________________________\n",
      "                                 FINAL REPORT\n",
      " INDICATION:  For PICC line placement in patient with pneumonia and\n",
      " tracheostomy.\n",
      "\n",
      " FINDINGS:  PICC line is in the right brachiocephalic vein. Tracheostomy tube\n",
      " is 3 cm above carina. Chest tube is in right upper hemithorax. The tube\n",
      " extends below diaphragm. No definitive residual right pneumothorax. Left\n",
      " apical pleural thickening and bilateral patchy interstitial air space opacity\n",
      " with some confluent air space opacification in the left lower lobe is again\n",
      " demonstrated.\n",
      "\n",
      "\n"
     ]
    }
   ],
   "source": [
    "print(list_of_text[0])"
   ]
  },
  {
   "cell_type": "code",
   "execution_count": 9,
   "metadata": {},
   "outputs": [
    {
     "data": {
      "text/html": [
       "<div>\n",
       "<style scoped>\n",
       "    .dataframe tbody tr th:only-of-type {\n",
       "        vertical-align: middle;\n",
       "    }\n",
       "\n",
       "    .dataframe tbody tr th {\n",
       "        vertical-align: top;\n",
       "    }\n",
       "\n",
       "    .dataframe thead th {\n",
       "        text-align: right;\n",
       "    }\n",
       "</style>\n",
       "<table border=\"1\" class=\"dataframe\">\n",
       "  <thead>\n",
       "    <tr style=\"text-align: right;\">\n",
       "      <th></th>\n",
       "      <th>Identifier</th>\n",
       "      <th>Text</th>\n",
       "    </tr>\n",
       "  </thead>\n",
       "  <tbody>\n",
       "    <tr>\n",
       "      <th>0</th>\n",
       "      <td>750400</td>\n",
       "      <td>[**2642-3-27**] 11:24 AM\\n CHEST (PORTABLE AP)...</td>\n",
       "    </tr>\n",
       "    <tr>\n",
       "      <th>1</th>\n",
       "      <td>1520872</td>\n",
       "      <td>Neonatology Attending\\n\\nDOL 127 PMA 42 6/7 we...</td>\n",
       "    </tr>\n",
       "    <tr>\n",
       "      <th>2</th>\n",
       "      <td>1671892</td>\n",
       "      <td>Nursing note addendum\\nPalliative care consult...</td>\n",
       "    </tr>\n",
       "    <tr>\n",
       "      <th>3</th>\n",
       "      <td>502100</td>\n",
       "      <td>TITLE:\\n   Chief Complaint:\\n   24 Hour Events...</td>\n",
       "    </tr>\n",
       "    <tr>\n",
       "      <th>4</th>\n",
       "      <td>542040</td>\n",
       "      <td>61 year old male s/p replacement of L  perc ne...</td>\n",
       "    </tr>\n",
       "  </tbody>\n",
       "</table>\n",
       "</div>"
      ],
      "text/plain": [
       "  Identifier                                               Text\n",
       "0     750400  [**2642-3-27**] 11:24 AM\\n CHEST (PORTABLE AP)...\n",
       "1    1520872  Neonatology Attending\\n\\nDOL 127 PMA 42 6/7 we...\n",
       "2    1671892  Nursing note addendum\\nPalliative care consult...\n",
       "3     502100  TITLE:\\n   Chief Complaint:\\n   24 Hour Events...\n",
       "4     542040  61 year old male s/p replacement of L  perc ne..."
      ]
     },
     "execution_count": 9,
     "metadata": {},
     "output_type": "execute_result"
    }
   ],
   "source": [
    "text_df = pd.DataFrame({\"Identifier\" : list_of_identifiers, \"Text\": list_of_text}) \n",
    "text_df.head()\n",
    "# I might end up changing the identifier to the index column, but for now I am just going to use this. "
   ]
  },
  {
   "cell_type": "code",
   "execution_count": 10,
   "metadata": {},
   "outputs": [],
   "source": [
    "def get_a1c_flag(a):\n",
    "    try:\n",
    "        if float(a) < 7.1:\n",
    "            return \"Good\"\n",
    "        elif float(a) >= 7.1 and float(a) < 10.1:\n",
    "            return \"Moderate\"\n",
    "        elif float(a) >= 10.1:\n",
    "            return \"Poor\"\n",
    "        else:\n",
    "            return \"Not Sure\"\n",
    "    except:\n",
    "        return \"Not a value\"\n",
    "i = 0\n",
    "output_array = []\n",
    "while i < len(text_df):\n",
    "    raw_text = text_df[\"Text\"][i]\n",
    "    remove_MIMIC_comments = re.sub(r\"\\[\\*\\*.*?\\*\\*\\]\", \"\", raw_text)\n",
    "    remove_times = re.sub(r\"\\d{1,2}:\\d{2}\\s?P?A?\\.?M\\.?\", \"\", remove_MIMIC_comments)\n",
    "    cleaned_text = re.sub(r\"\\s{2,}\", r\" \", remove_times)\n",
    "    \n",
    "    context=markup_doc(cleaned_text)\n",
    "    root = ElementTree.fromstring(context.getDocumentGraph().getXML())\n",
    "    for node in root.findall('.//node'):\n",
    "        phrase = node.find('.//phrase').text\n",
    "        tmp1 =  re.sub(r\"[A|a]1[C|c]\", \"\", phrase)\n",
    "        A1c_Value = re.sub(r\"[^\\d{1,2}\\.?\\d{0,1}]\", \"\", tmp1)\n",
    "        A1c_Flag = get_a1c_flag(A1c_Value)\n",
    "        literal = node.find('.//literal').text\n",
    "        Start = node.find('.//spanStart').text\n",
    "        Stop = node.find('.//spanStop').text\n",
    "        Node_ID = node.find('.//id').text\n",
    "        category = node.find('.//category').text\n",
    "        try:\n",
    "            modified_by = node.find('.//modifyingNode').text\n",
    "        except:\n",
    "            modified_by = \"None\"\n",
    "        try:\n",
    "            modifying_category = node.find('.//modifyingCategory').text\n",
    "        except:\n",
    "            modifying_category = \"None\"\n",
    "        try:\n",
    "            node_modified = node.find('.//modifiedNode').text\n",
    "        except:\n",
    "            node_modified = \"None\"\n",
    "        output_array.append([text_df[\"Identifier\"][i], Start, Stop, phrase, literal, A1c_Value, A1c_Flag, Node_ID,\n",
    "                             modifying_category, modified_by, node_modified])\n",
    "    i += 1\n",
    "            \n",
    "#output_array"
   ]
  },
  {
   "cell_type": "code",
   "execution_count": 11,
   "metadata": {},
   "outputs": [
    {
     "data": {
      "text/plain": [
       "20"
      ]
     },
     "execution_count": 11,
     "metadata": {},
     "output_type": "execute_result"
    }
   ],
   "source": [
    "len(output_array)"
   ]
  },
  {
   "cell_type": "code",
   "execution_count": 12,
   "metadata": {},
   "outputs": [
    {
     "data": {
      "text/plain": [
       "list"
      ]
     },
     "execution_count": 12,
     "metadata": {},
     "output_type": "execute_result"
    }
   ],
   "source": [
    "type(output_array)"
   ]
  },
  {
   "cell_type": "code",
   "execution_count": 13,
   "metadata": {},
   "outputs": [
    {
     "data": {
      "text/html": [
       "<div>\n",
       "<style scoped>\n",
       "    .dataframe tbody tr th:only-of-type {\n",
       "        vertical-align: middle;\n",
       "    }\n",
       "\n",
       "    .dataframe tbody tr th {\n",
       "        vertical-align: top;\n",
       "    }\n",
       "\n",
       "    .dataframe thead th {\n",
       "        text-align: right;\n",
       "    }\n",
       "</style>\n",
       "<table border=\"1\" class=\"dataframe\">\n",
       "  <thead>\n",
       "    <tr style=\"text-align: right;\">\n",
       "      <th></th>\n",
       "      <th>Identifier</th>\n",
       "      <th>Start</th>\n",
       "      <th>Stop</th>\n",
       "      <th>Phrase</th>\n",
       "      <th>Annotation_Type</th>\n",
       "      <th>A1c_Value</th>\n",
       "      <th>A1c_Flag</th>\n",
       "      <th>Node_ID</th>\n",
       "      <th>Modifying_Category</th>\n",
       "      <th>Modified_By</th>\n",
       "      <th>Node_Modified</th>\n",
       "    </tr>\n",
       "  </thead>\n",
       "  <tbody>\n",
       "    <tr>\n",
       "      <th>0</th>\n",
       "      <td>502100</td>\n",
       "      <td>4005</td>\n",
       "      <td>4008</td>\n",
       "      <td>f/u</td>\n",
       "      <td>f/u</td>\n",
       "      <td></td>\n",
       "      <td>Not a value</td>\n",
       "      <td>264947198095629370295783696176431780671</td>\n",
       "      <td>None</td>\n",
       "      <td>None</td>\n",
       "      <td>264947492032112298216476168224487527231</td>\n",
       "    </tr>\n",
       "    <tr>\n",
       "      <th>1</th>\n",
       "      <td>502100</td>\n",
       "      <td>5048</td>\n",
       "      <td>5061</td>\n",
       "      <td>A1c in of 9.2</td>\n",
       "      <td>A1C_IN_OF</td>\n",
       "      <td>9.2</td>\n",
       "      <td>Moderate</td>\n",
       "      <td>264947492032112298216476168224487527231</td>\n",
       "      <td>['future_order_a1c']</td>\n",
       "      <td>264947198095629370295783696176431780671</td>\n",
       "      <td>None</td>\n",
       "    </tr>\n",
       "    <tr>\n",
       "      <th>2</th>\n",
       "      <td>608452</td>\n",
       "      <td>125</td>\n",
       "      <td>132</td>\n",
       "      <td>A1c 6.3</td>\n",
       "      <td>A1C_COLON_OR_SPACE</td>\n",
       "      <td>6.3</td>\n",
       "      <td>Good</td>\n",
       "      <td>264956787872420096851206018736180450111</td>\n",
       "      <td>None</td>\n",
       "      <td>None</td>\n",
       "      <td>None</td>\n",
       "    </tr>\n",
       "    <tr>\n",
       "      <th>3</th>\n",
       "      <td>608452</td>\n",
       "      <td>1413</td>\n",
       "      <td>1420</td>\n",
       "      <td>A1c 6.3</td>\n",
       "      <td>A1C_COLON_OR_SPACE</td>\n",
       "      <td>6.3</td>\n",
       "      <td>Good</td>\n",
       "      <td>264956829071064604268661567379034624831</td>\n",
       "      <td>None</td>\n",
       "      <td>None</td>\n",
       "      <td>None</td>\n",
       "    </tr>\n",
       "    <tr>\n",
       "      <th>4</th>\n",
       "      <td>472998</td>\n",
       "      <td>2143</td>\n",
       "      <td>2150</td>\n",
       "      <td>A1c 5.5</td>\n",
       "      <td>A1C_COLON_OR_SPACE</td>\n",
       "      <td>5.5</td>\n",
       "      <td>Good</td>\n",
       "      <td>264960922790221716306985025794948485951</td>\n",
       "      <td>None</td>\n",
       "      <td>None</td>\n",
       "      <td>None</td>\n",
       "    </tr>\n",
       "  </tbody>\n",
       "</table>\n",
       "</div>"
      ],
      "text/plain": [
       "  Identifier   Start    Stop           Phrase       Annotation_Type A1c_Value  \\\n",
       "0     502100   4005    4008              f/u                   f/u              \n",
       "1     502100   5048    5061    A1c in of 9.2             A1C_IN_OF        9.2   \n",
       "2     608452    125     132          A1c 6.3    A1C_COLON_OR_SPACE        6.3   \n",
       "3     608452   1413    1420          A1c 6.3    A1C_COLON_OR_SPACE        6.3   \n",
       "4     472998   2143    2150          A1c 5.5    A1C_COLON_OR_SPACE        5.5   \n",
       "\n",
       "      A1c_Flag                                    Node_ID  \\\n",
       "0  Not a value   264947198095629370295783696176431780671    \n",
       "1     Moderate   264947492032112298216476168224487527231    \n",
       "2         Good   264956787872420096851206018736180450111    \n",
       "3         Good   264956829071064604268661567379034624831    \n",
       "4         Good   264960922790221716306985025794948485951    \n",
       "\n",
       "       Modifying_Category                                Modified_By  \\\n",
       "0                    None                                       None   \n",
       "1   ['future_order_a1c']    264947198095629370295783696176431780671    \n",
       "2                    None                                       None   \n",
       "3                    None                                       None   \n",
       "4                    None                                       None   \n",
       "\n",
       "                               Node_Modified  \n",
       "0   264947492032112298216476168224487527231   \n",
       "1                                       None  \n",
       "2                                       None  \n",
       "3                                       None  \n",
       "4                                       None  "
      ]
     },
     "execution_count": 13,
     "metadata": {},
     "output_type": "execute_result"
    }
   ],
   "source": [
    "test_df = pd.DataFrame(output_array, columns=(\"Identifier\", \"Start\", \"Stop\", \"Phrase\", \"Annotation_Type\", \"A1c_Value\", \"A1c_Flag\", \"Node_ID\", \"Modifying_Category\", \"Modified_By\", \"Node_Modified\"))\n",
    "test_df.head() # New dataframe name"
   ]
  },
  {
   "cell_type": "markdown",
   "metadata": {},
   "source": [
    "I had put in f/u as a modifier so that it would have a modifier file, but all of my targets require a value. In other words, if they put f/u and a value it is either a mistake typing or it refers to something else. As such, I can get rid of all of the modifier columns and the rows about node ID, modifying node, modified by, and node modified. "
   ]
  },
  {
   "cell_type": "code",
   "execution_count": 14,
   "metadata": {},
   "outputs": [
    {
     "data": {
      "text/html": [
       "<div>\n",
       "<style scoped>\n",
       "    .dataframe tbody tr th:only-of-type {\n",
       "        vertical-align: middle;\n",
       "    }\n",
       "\n",
       "    .dataframe tbody tr th {\n",
       "        vertical-align: top;\n",
       "    }\n",
       "\n",
       "    .dataframe thead th {\n",
       "        text-align: right;\n",
       "    }\n",
       "</style>\n",
       "<table border=\"1\" class=\"dataframe\">\n",
       "  <thead>\n",
       "    <tr style=\"text-align: right;\">\n",
       "      <th></th>\n",
       "      <th>Identifier</th>\n",
       "      <th>Start</th>\n",
       "      <th>Stop</th>\n",
       "      <th>Phrase</th>\n",
       "      <th>Annotation_Type</th>\n",
       "      <th>A1c_Value</th>\n",
       "      <th>A1c_Flag</th>\n",
       "      <th>Node_ID</th>\n",
       "      <th>Modifying_Category</th>\n",
       "      <th>Modified_By</th>\n",
       "      <th>Node_Modified</th>\n",
       "    </tr>\n",
       "  </thead>\n",
       "  <tbody>\n",
       "    <tr>\n",
       "      <th>0</th>\n",
       "      <td>502100</td>\n",
       "      <td>4005</td>\n",
       "      <td>4008</td>\n",
       "      <td>f/u</td>\n",
       "      <td>f/u</td>\n",
       "      <td></td>\n",
       "      <td>Not a value</td>\n",
       "      <td>264947198095629370295783696176431780671</td>\n",
       "      <td>None</td>\n",
       "      <td>None</td>\n",
       "      <td>264947492032112298216476168224487527231</td>\n",
       "    </tr>\n",
       "    <tr>\n",
       "      <th>9</th>\n",
       "      <td>558451</td>\n",
       "      <td>3115</td>\n",
       "      <td>3118</td>\n",
       "      <td>f/u</td>\n",
       "      <td>f/u</td>\n",
       "      <td></td>\n",
       "      <td>Not a value</td>\n",
       "      <td>264975419167116951252834516531541463871</td>\n",
       "      <td>None</td>\n",
       "      <td>None</td>\n",
       "      <td>264975494433871339803955230398294283071</td>\n",
       "    </tr>\n",
       "  </tbody>\n",
       "</table>\n",
       "</div>"
      ],
      "text/plain": [
       "  Identifier   Start    Stop Phrase Annotation_Type A1c_Value     A1c_Flag  \\\n",
       "0     502100   4005    4008    f/u             f/u             Not a value   \n",
       "9     558451   3115    3118    f/u             f/u             Not a value   \n",
       "\n",
       "                                     Node_ID Modifying_Category Modified_By  \\\n",
       "0   264947198095629370295783696176431780671                None        None   \n",
       "9   264975419167116951252834516531541463871                None        None   \n",
       "\n",
       "                               Node_Modified  \n",
       "0   264947492032112298216476168224487527231   \n",
       "9   264975494433871339803955230398294283071   "
      ]
     },
     "execution_count": 14,
     "metadata": {},
     "output_type": "execute_result"
    }
   ],
   "source": [
    "modifier_columns = test_df[test_df[\"Node_Modified\"]!=\"None\"]\n",
    "modifier_columns"
   ]
  },
  {
   "cell_type": "code",
   "execution_count": 15,
   "metadata": {},
   "outputs": [
    {
     "data": {
      "text/plain": [
       "18"
      ]
     },
     "execution_count": 15,
     "metadata": {},
     "output_type": "execute_result"
    }
   ],
   "source": [
    "modifier_columns = test_df[test_df[\"Node_Modified\"]!=\"None\"]\n",
    "A1c_Value_Results = test_df[[\"Identifier\", \"Start\", \"Stop\", \"Phrase\", \"Annotation_Type\", \"A1c_Value\", \"A1c_Flag\"]].drop(modifier_columns.index, axis = 0)\n",
    "len(A1c_Value_Results)"
   ]
  },
  {
   "cell_type": "code",
   "execution_count": 16,
   "metadata": {
    "scrolled": true
   },
   "outputs": [
    {
     "data": {
      "text/html": [
       "<div>\n",
       "<style scoped>\n",
       "    .dataframe tbody tr th:only-of-type {\n",
       "        vertical-align: middle;\n",
       "    }\n",
       "\n",
       "    .dataframe tbody tr th {\n",
       "        vertical-align: top;\n",
       "    }\n",
       "\n",
       "    .dataframe thead th {\n",
       "        text-align: right;\n",
       "    }\n",
       "</style>\n",
       "<table border=\"1\" class=\"dataframe\">\n",
       "  <thead>\n",
       "    <tr style=\"text-align: right;\">\n",
       "      <th></th>\n",
       "      <th>Identifier</th>\n",
       "      <th>Start</th>\n",
       "      <th>Stop</th>\n",
       "      <th>Phrase</th>\n",
       "      <th>Annotation_Type</th>\n",
       "      <th>A1c_Value</th>\n",
       "      <th>A1c_Flag</th>\n",
       "    </tr>\n",
       "  </thead>\n",
       "  <tbody>\n",
       "    <tr>\n",
       "      <th>1</th>\n",
       "      <td>502100</td>\n",
       "      <td>5048</td>\n",
       "      <td>5061</td>\n",
       "      <td>A1c in of 9.2</td>\n",
       "      <td>A1C_IN_OF</td>\n",
       "      <td>9.2</td>\n",
       "      <td>Moderate</td>\n",
       "    </tr>\n",
       "    <tr>\n",
       "      <th>2</th>\n",
       "      <td>608452</td>\n",
       "      <td>125</td>\n",
       "      <td>132</td>\n",
       "      <td>A1c 6.3</td>\n",
       "      <td>A1C_COLON_OR_SPACE</td>\n",
       "      <td>6.3</td>\n",
       "      <td>Good</td>\n",
       "    </tr>\n",
       "    <tr>\n",
       "      <th>3</th>\n",
       "      <td>608452</td>\n",
       "      <td>1413</td>\n",
       "      <td>1420</td>\n",
       "      <td>A1c 6.3</td>\n",
       "      <td>A1C_COLON_OR_SPACE</td>\n",
       "      <td>6.3</td>\n",
       "      <td>Good</td>\n",
       "    </tr>\n",
       "    <tr>\n",
       "      <th>4</th>\n",
       "      <td>472998</td>\n",
       "      <td>2143</td>\n",
       "      <td>2150</td>\n",
       "      <td>A1c 5.5</td>\n",
       "      <td>A1C_COLON_OR_SPACE</td>\n",
       "      <td>5.5</td>\n",
       "      <td>Good</td>\n",
       "    </tr>\n",
       "    <tr>\n",
       "      <th>5</th>\n",
       "      <td>607400</td>\n",
       "      <td>876</td>\n",
       "      <td>884</td>\n",
       "      <td>A1c: 6.9</td>\n",
       "      <td>A1C_COLON_OR_SPACE</td>\n",
       "      <td>6.9</td>\n",
       "      <td>Good</td>\n",
       "    </tr>\n",
       "  </tbody>\n",
       "</table>\n",
       "</div>"
      ],
      "text/plain": [
       "  Identifier   Start    Stop           Phrase       Annotation_Type A1c_Value  \\\n",
       "1     502100   5048    5061    A1c in of 9.2             A1C_IN_OF        9.2   \n",
       "2     608452    125     132          A1c 6.3    A1C_COLON_OR_SPACE        6.3   \n",
       "3     608452   1413    1420          A1c 6.3    A1C_COLON_OR_SPACE        6.3   \n",
       "4     472998   2143    2150          A1c 5.5    A1C_COLON_OR_SPACE        5.5   \n",
       "5     607400    876     884         A1c: 6.9    A1C_COLON_OR_SPACE        6.9   \n",
       "\n",
       "   A1c_Flag  \n",
       "1  Moderate  \n",
       "2      Good  \n",
       "3      Good  \n",
       "4      Good  \n",
       "5      Good  "
      ]
     },
     "execution_count": 16,
     "metadata": {},
     "output_type": "execute_result"
    }
   ],
   "source": [
    "A1c_Value_Results.head()"
   ]
  },
  {
   "cell_type": "code",
   "execution_count": 17,
   "metadata": {
    "scrolled": true
   },
   "outputs": [],
   "source": [
    "A1c_Value_Results[\"A1c_Value\"] = A1c_Value_Results[\"A1c_Value\"].apply(pd.to_numeric)\n",
    "A1c_Value_Results = A1c_Value_Results.groupby(\"Identifier\").apply(lambda x: x.loc[x.A1c_Value.idxmax()])\n",
    "A1c_Value_Results.to_csv(\"Output_Files/A1c_Results_Test_Dataset.csv\") #New output file names\n",
    "modifier_columns.to_csv(\"Output_Files/Modifier_Columns_to_A1c_Test_Dataset.csv\") # I know this isn't needed, but I am going to save it for just in case"
   ]
  },
  {
   "cell_type": "code",
   "execution_count": 18,
   "metadata": {},
   "outputs": [
    {
     "data": {
      "text/html": [
       "<div>\n",
       "<style scoped>\n",
       "    .dataframe tbody tr th:only-of-type {\n",
       "        vertical-align: middle;\n",
       "    }\n",
       "\n",
       "    .dataframe tbody tr th {\n",
       "        vertical-align: top;\n",
       "    }\n",
       "\n",
       "    .dataframe thead th {\n",
       "        text-align: right;\n",
       "    }\n",
       "</style>\n",
       "<table border=\"1\" class=\"dataframe\">\n",
       "  <thead>\n",
       "    <tr style=\"text-align: right;\">\n",
       "      <th></th>\n",
       "      <th>Identifier</th>\n",
       "      <th>Start</th>\n",
       "      <th>Stop</th>\n",
       "      <th>Phrase</th>\n",
       "      <th>Annotation_Type</th>\n",
       "      <th>A1c_Value</th>\n",
       "      <th>A1c_Flag</th>\n",
       "    </tr>\n",
       "    <tr>\n",
       "      <th>Identifier</th>\n",
       "      <th></th>\n",
       "      <th></th>\n",
       "      <th></th>\n",
       "      <th></th>\n",
       "      <th></th>\n",
       "      <th></th>\n",
       "      <th></th>\n",
       "    </tr>\n",
       "  </thead>\n",
       "  <tbody>\n",
       "    <tr>\n",
       "      <th>26293</th>\n",
       "      <td>26293</td>\n",
       "      <td>487</td>\n",
       "      <td>498</td>\n",
       "      <td>A1C was 5.7</td>\n",
       "      <td>A1C_IS_OR_WAS</td>\n",
       "      <td>5.7</td>\n",
       "      <td>Good</td>\n",
       "    </tr>\n",
       "    <tr>\n",
       "      <th>3010</th>\n",
       "      <td>3010</td>\n",
       "      <td>1143</td>\n",
       "      <td>1153</td>\n",
       "      <td>A1C of 6.7</td>\n",
       "      <td>A1C_IN_OF</td>\n",
       "      <td>6.7</td>\n",
       "      <td>Good</td>\n",
       "    </tr>\n",
       "    <tr>\n",
       "      <th>405628</th>\n",
       "      <td>405628</td>\n",
       "      <td>173</td>\n",
       "      <td>180</td>\n",
       "      <td>A1C:6.4</td>\n",
       "      <td>A1C_COLON_OR_SPACE</td>\n",
       "      <td>6.4</td>\n",
       "      <td>Good</td>\n",
       "    </tr>\n",
       "    <tr>\n",
       "      <th>410226</th>\n",
       "      <td>410226</td>\n",
       "      <td>560</td>\n",
       "      <td>567</td>\n",
       "      <td>A1c 7.0</td>\n",
       "      <td>A1C_COLON_OR_SPACE</td>\n",
       "      <td>7.0</td>\n",
       "      <td>Good</td>\n",
       "    </tr>\n",
       "    <tr>\n",
       "      <th>420089</th>\n",
       "      <td>420089</td>\n",
       "      <td>129</td>\n",
       "      <td>137</td>\n",
       "      <td>A1c: 6.2</td>\n",
       "      <td>A1C_COLON_OR_SPACE</td>\n",
       "      <td>6.2</td>\n",
       "      <td>Good</td>\n",
       "    </tr>\n",
       "  </tbody>\n",
       "</table>\n",
       "</div>"
      ],
      "text/plain": [
       "           Identifier   Start    Stop         Phrase       Annotation_Type  \\\n",
       "Identifier                                                                   \n",
       "26293           26293    487     498    A1C was 5.7         A1C_IS_OR_WAS    \n",
       "3010             3010   1143    1153     A1C of 6.7             A1C_IN_OF    \n",
       "405628         405628    173     180        A1C:6.4    A1C_COLON_OR_SPACE    \n",
       "410226         410226    560     567        A1c 7.0    A1C_COLON_OR_SPACE    \n",
       "420089         420089    129     137       A1c: 6.2    A1C_COLON_OR_SPACE    \n",
       "\n",
       "            A1c_Value A1c_Flag  \n",
       "Identifier                      \n",
       "26293             5.7     Good  \n",
       "3010              6.7     Good  \n",
       "405628            6.4     Good  \n",
       "410226            7.0     Good  \n",
       "420089            6.2     Good  "
      ]
     },
     "execution_count": 18,
     "metadata": {},
     "output_type": "execute_result"
    }
   ],
   "source": [
    "A1c_Value_Results.head()"
   ]
  },
  {
   "cell_type": "code",
   "execution_count": 19,
   "metadata": {},
   "outputs": [],
   "source": [
    "Manual_Results = pd.read_csv(\"Manual_Annotation_Results/Manual.Annotation.Test_Dataset.A1c.Results.csv\", index_col = 1)"
   ]
  },
  {
   "cell_type": "code",
   "execution_count": 20,
   "metadata": {},
   "outputs": [
    {
     "data": {
      "text/html": [
       "<div>\n",
       "<style scoped>\n",
       "    .dataframe tbody tr th:only-of-type {\n",
       "        vertical-align: middle;\n",
       "    }\n",
       "\n",
       "    .dataframe tbody tr th {\n",
       "        vertical-align: top;\n",
       "    }\n",
       "\n",
       "    .dataframe thead th {\n",
       "        text-align: right;\n",
       "    }\n",
       "</style>\n",
       "<table border=\"1\" class=\"dataframe\">\n",
       "  <thead>\n",
       "    <tr style=\"text-align: right;\">\n",
       "      <th></th>\n",
       "      <th>File</th>\n",
       "      <th>Sentence</th>\n",
       "      <th>HbA1c</th>\n",
       "    </tr>\n",
       "    <tr>\n",
       "      <th>Identifier</th>\n",
       "      <th></th>\n",
       "      <th></th>\n",
       "      <th></th>\n",
       "    </tr>\n",
       "  </thead>\n",
       "  <tbody>\n",
       "    <tr>\n",
       "      <th>1028562</th>\n",
       "      <td>1028562.txt</td>\n",
       "      <td>No mentions of diabetes or HbA1c</td>\n",
       "      <td>NaN</td>\n",
       "    </tr>\n",
       "    <tr>\n",
       "      <th>1032480</th>\n",
       "      <td>1032480.txt</td>\n",
       "      <td>No mentions of diabetes or HbA1c</td>\n",
       "      <td>NaN</td>\n",
       "    </tr>\n",
       "    <tr>\n",
       "      <th>1037568</th>\n",
       "      <td>1037568.txt</td>\n",
       "      <td>No mentions of diabetes or HbA1c</td>\n",
       "      <td>NaN</td>\n",
       "    </tr>\n",
       "    <tr>\n",
       "      <th>1129782</th>\n",
       "      <td>1129782.txt</td>\n",
       "      <td>No mentions of diabetes or HbA1c</td>\n",
       "      <td>NaN</td>\n",
       "    </tr>\n",
       "    <tr>\n",
       "      <th>114118</th>\n",
       "      <td>114118.txt</td>\n",
       "      <td>No mentions of diabetes or HbA1c</td>\n",
       "      <td>NaN</td>\n",
       "    </tr>\n",
       "  </tbody>\n",
       "</table>\n",
       "</div>"
      ],
      "text/plain": [
       "                   File                          Sentence  HbA1c\n",
       "Identifier                                                      \n",
       "1028562     1028562.txt  No mentions of diabetes or HbA1c    NaN\n",
       "1032480     1032480.txt  No mentions of diabetes or HbA1c    NaN\n",
       "1037568     1037568.txt  No mentions of diabetes or HbA1c    NaN\n",
       "1129782     1129782.txt  No mentions of diabetes or HbA1c    NaN\n",
       "114118       114118.txt  No mentions of diabetes or HbA1c    NaN"
      ]
     },
     "execution_count": 20,
     "metadata": {},
     "output_type": "execute_result"
    }
   ],
   "source": [
    "Manual_Results.head()"
   ]
  },
  {
   "cell_type": "code",
   "execution_count": 21,
   "metadata": {
    "scrolled": true
   },
   "outputs": [
    {
     "data": {
      "text/plain": [
       "File         object\n",
       "Sentence     object\n",
       "HbA1c       float64\n",
       "dtype: object"
      ]
     },
     "execution_count": 21,
     "metadata": {},
     "output_type": "execute_result"
    }
   ],
   "source": [
    "Manual_Results.dtypes"
   ]
  },
  {
   "cell_type": "code",
   "execution_count": 22,
   "metadata": {},
   "outputs": [
    {
     "data": {
      "text/plain": [
       "Identifier          object\n",
       "Start               object\n",
       "Stop                object\n",
       "Phrase              object\n",
       "Annotation_Type     object\n",
       "A1c_Value          float64\n",
       "A1c_Flag            object\n",
       "dtype: object"
      ]
     },
     "execution_count": 22,
     "metadata": {},
     "output_type": "execute_result"
    }
   ],
   "source": [
    "A1c_Value_Results.dtypes"
   ]
  },
  {
   "cell_type": "code",
   "execution_count": 23,
   "metadata": {},
   "outputs": [],
   "source": [
    "A1c_Value_Results[\"Identifier\"] = A1c_Value_Results[\"Identifier\"].apply(pd.to_numeric)"
   ]
  },
  {
   "cell_type": "code",
   "execution_count": 24,
   "metadata": {
    "scrolled": true
   },
   "outputs": [
    {
     "name": "stderr",
     "output_type": "stream",
     "text": [
      "/Users/david/anaconda3/lib/python3.7/site-packages/IPython/core/interactiveshell.py:3267: FutureWarning: 'Identifier' is both an index level and a column label.\n",
      "Defaulting to column, but this will raise an ambiguity error in a future version\n",
      "  exec(code_obj, self.user_global_ns, self.user_ns)\n"
     ]
    },
    {
     "data": {
      "text/html": [
       "<div>\n",
       "<style scoped>\n",
       "    .dataframe tbody tr th:only-of-type {\n",
       "        vertical-align: middle;\n",
       "    }\n",
       "\n",
       "    .dataframe tbody tr th {\n",
       "        vertical-align: top;\n",
       "    }\n",
       "\n",
       "    .dataframe thead th {\n",
       "        text-align: right;\n",
       "    }\n",
       "</style>\n",
       "<table border=\"1\" class=\"dataframe\">\n",
       "  <thead>\n",
       "    <tr style=\"text-align: right;\">\n",
       "      <th></th>\n",
       "      <th>Identifier</th>\n",
       "      <th>File</th>\n",
       "      <th>Sentence</th>\n",
       "      <th>HbA1c</th>\n",
       "      <th>Start</th>\n",
       "      <th>Stop</th>\n",
       "      <th>Phrase</th>\n",
       "      <th>Annotation_Type</th>\n",
       "      <th>A1c_Value</th>\n",
       "      <th>A1c_Flag</th>\n",
       "    </tr>\n",
       "  </thead>\n",
       "  <tbody>\n",
       "    <tr>\n",
       "      <th>0</th>\n",
       "      <td>1028562</td>\n",
       "      <td>1028562.txt</td>\n",
       "      <td>No mentions of diabetes or HbA1c</td>\n",
       "      <td>NaN</td>\n",
       "      <td>NaN</td>\n",
       "      <td>NaN</td>\n",
       "      <td>NaN</td>\n",
       "      <td>NaN</td>\n",
       "      <td>NaN</td>\n",
       "      <td>NaN</td>\n",
       "    </tr>\n",
       "    <tr>\n",
       "      <th>1</th>\n",
       "      <td>1032480</td>\n",
       "      <td>1032480.txt</td>\n",
       "      <td>No mentions of diabetes or HbA1c</td>\n",
       "      <td>NaN</td>\n",
       "      <td>NaN</td>\n",
       "      <td>NaN</td>\n",
       "      <td>NaN</td>\n",
       "      <td>NaN</td>\n",
       "      <td>NaN</td>\n",
       "      <td>NaN</td>\n",
       "    </tr>\n",
       "    <tr>\n",
       "      <th>2</th>\n",
       "      <td>1037568</td>\n",
       "      <td>1037568.txt</td>\n",
       "      <td>No mentions of diabetes or HbA1c</td>\n",
       "      <td>NaN</td>\n",
       "      <td>NaN</td>\n",
       "      <td>NaN</td>\n",
       "      <td>NaN</td>\n",
       "      <td>NaN</td>\n",
       "      <td>NaN</td>\n",
       "      <td>NaN</td>\n",
       "    </tr>\n",
       "    <tr>\n",
       "      <th>3</th>\n",
       "      <td>1129782</td>\n",
       "      <td>1129782.txt</td>\n",
       "      <td>No mentions of diabetes or HbA1c</td>\n",
       "      <td>NaN</td>\n",
       "      <td>NaN</td>\n",
       "      <td>NaN</td>\n",
       "      <td>NaN</td>\n",
       "      <td>NaN</td>\n",
       "      <td>NaN</td>\n",
       "      <td>NaN</td>\n",
       "    </tr>\n",
       "    <tr>\n",
       "      <th>4</th>\n",
       "      <td>114118</td>\n",
       "      <td>114118.txt</td>\n",
       "      <td>No mentions of diabetes or HbA1c</td>\n",
       "      <td>NaN</td>\n",
       "      <td>NaN</td>\n",
       "      <td>NaN</td>\n",
       "      <td>NaN</td>\n",
       "      <td>NaN</td>\n",
       "      <td>NaN</td>\n",
       "      <td>NaN</td>\n",
       "    </tr>\n",
       "    <tr>\n",
       "      <th>5</th>\n",
       "      <td>1156963</td>\n",
       "      <td>1156963.txt</td>\n",
       "      <td>No mentions of diabetes or HbA1c</td>\n",
       "      <td>NaN</td>\n",
       "      <td>NaN</td>\n",
       "      <td>NaN</td>\n",
       "      <td>NaN</td>\n",
       "      <td>NaN</td>\n",
       "      <td>NaN</td>\n",
       "      <td>NaN</td>\n",
       "    </tr>\n",
       "    <tr>\n",
       "      <th>6</th>\n",
       "      <td>1185261</td>\n",
       "      <td>1185261.txt</td>\n",
       "      <td>No mentions of diabetes or HbA1c</td>\n",
       "      <td>NaN</td>\n",
       "      <td>NaN</td>\n",
       "      <td>NaN</td>\n",
       "      <td>NaN</td>\n",
       "      <td>NaN</td>\n",
       "      <td>NaN</td>\n",
       "      <td>NaN</td>\n",
       "    </tr>\n",
       "    <tr>\n",
       "      <th>7</th>\n",
       "      <td>1245072</td>\n",
       "      <td>1245072.txt</td>\n",
       "      <td>insulin-dependent diabetes</td>\n",
       "      <td>NaN</td>\n",
       "      <td>NaN</td>\n",
       "      <td>NaN</td>\n",
       "      <td>NaN</td>\n",
       "      <td>NaN</td>\n",
       "      <td>NaN</td>\n",
       "      <td>NaN</td>\n",
       "    </tr>\n",
       "  </tbody>\n",
       "</table>\n",
       "</div>"
      ],
      "text/plain": [
       "   Identifier         File                          Sentence  HbA1c Start  \\\n",
       "0     1028562  1028562.txt  No mentions of diabetes or HbA1c    NaN   NaN   \n",
       "1     1032480  1032480.txt  No mentions of diabetes or HbA1c    NaN   NaN   \n",
       "2     1037568  1037568.txt  No mentions of diabetes or HbA1c    NaN   NaN   \n",
       "3     1129782  1129782.txt  No mentions of diabetes or HbA1c    NaN   NaN   \n",
       "4      114118   114118.txt  No mentions of diabetes or HbA1c    NaN   NaN   \n",
       "5     1156963  1156963.txt  No mentions of diabetes or HbA1c    NaN   NaN   \n",
       "6     1185261  1185261.txt  No mentions of diabetes or HbA1c    NaN   NaN   \n",
       "7     1245072  1245072.txt        insulin-dependent diabetes    NaN   NaN   \n",
       "\n",
       "  Stop Phrase Annotation_Type  A1c_Value A1c_Flag  \n",
       "0  NaN    NaN             NaN        NaN      NaN  \n",
       "1  NaN    NaN             NaN        NaN      NaN  \n",
       "2  NaN    NaN             NaN        NaN      NaN  \n",
       "3  NaN    NaN             NaN        NaN      NaN  \n",
       "4  NaN    NaN             NaN        NaN      NaN  \n",
       "5  NaN    NaN             NaN        NaN      NaN  \n",
       "6  NaN    NaN             NaN        NaN      NaN  \n",
       "7  NaN    NaN             NaN        NaN      NaN  "
      ]
     },
     "execution_count": 24,
     "metadata": {},
     "output_type": "execute_result"
    }
   ],
   "source": [
    "Merged_Manual_and_Machine = pd.merge(Manual_Results, A1c_Value_Results, on=['Identifier'], how = 'outer')\n",
    "Merged_Manual_and_Machine.head(8)"
   ]
  },
  {
   "cell_type": "markdown",
   "metadata": {},
   "source": [
    "If both HbA1c and A1c_Value are NaN = True Negative\n",
    "<br>If both HbA1c and A1c_Value are Numbers (must be the same) = True Positive\n",
    "<br>If HbA1c is NaN and A1c_Value is a number = False Positive\n",
    "<br>If HbA1c is a number and A1c_Value is Nan = False Negative\n",
    "<br>If Both columns give a number, but it doesn't match, give it False Positive even though this isn't technically correct. Luckily, I don't think I have any of those. "
   ]
  },
  {
   "cell_type": "code",
   "execution_count": 25,
   "metadata": {},
   "outputs": [],
   "source": [
    "def get_category(manual, machine):\n",
    "    if math.isnan(manual):\n",
    "        if math.isnan(machine):\n",
    "            return \"True_Negative\"\n",
    "        else:\n",
    "            return \"False_Positive\"\n",
    "    else:\n",
    "        if math.isnan(machine):\n",
    "            return \"False_Negative\"\n",
    "        elif manual == machine:\n",
    "            return \"True_Positive\"\n",
    "        else:\n",
    "            return \"Non_Matching_Values\"\n",
    "\n",
    "\n",
    "Merged_Manual_and_Machine[\"Category\"] = Merged_Manual_and_Machine.apply(lambda x: get_category(x[\"HbA1c\"], x[\"A1c_Value\"]), axis = 1)\n",
    "#[\"HbA1c\", \"A1c_Value\"].apply(get_category, axis = 1)"
   ]
  },
  {
   "cell_type": "code",
   "execution_count": 26,
   "metadata": {},
   "outputs": [
    {
     "data": {
      "text/html": [
       "<div>\n",
       "<style scoped>\n",
       "    .dataframe tbody tr th:only-of-type {\n",
       "        vertical-align: middle;\n",
       "    }\n",
       "\n",
       "    .dataframe tbody tr th {\n",
       "        vertical-align: top;\n",
       "    }\n",
       "\n",
       "    .dataframe thead th {\n",
       "        text-align: right;\n",
       "    }\n",
       "</style>\n",
       "<table border=\"1\" class=\"dataframe\">\n",
       "  <thead>\n",
       "    <tr style=\"text-align: right;\">\n",
       "      <th></th>\n",
       "      <th>Identifier</th>\n",
       "      <th>File</th>\n",
       "      <th>Sentence</th>\n",
       "      <th>HbA1c</th>\n",
       "      <th>Start</th>\n",
       "      <th>Stop</th>\n",
       "      <th>Phrase</th>\n",
       "      <th>Annotation_Type</th>\n",
       "      <th>A1c_Value</th>\n",
       "      <th>A1c_Flag</th>\n",
       "      <th>Category</th>\n",
       "    </tr>\n",
       "  </thead>\n",
       "  <tbody>\n",
       "    <tr>\n",
       "      <th>0</th>\n",
       "      <td>1028562</td>\n",
       "      <td>1028562.txt</td>\n",
       "      <td>No mentions of diabetes or HbA1c</td>\n",
       "      <td>NaN</td>\n",
       "      <td>NaN</td>\n",
       "      <td>NaN</td>\n",
       "      <td>NaN</td>\n",
       "      <td>NaN</td>\n",
       "      <td>NaN</td>\n",
       "      <td>NaN</td>\n",
       "      <td>True_Negative</td>\n",
       "    </tr>\n",
       "    <tr>\n",
       "      <th>1</th>\n",
       "      <td>1032480</td>\n",
       "      <td>1032480.txt</td>\n",
       "      <td>No mentions of diabetes or HbA1c</td>\n",
       "      <td>NaN</td>\n",
       "      <td>NaN</td>\n",
       "      <td>NaN</td>\n",
       "      <td>NaN</td>\n",
       "      <td>NaN</td>\n",
       "      <td>NaN</td>\n",
       "      <td>NaN</td>\n",
       "      <td>True_Negative</td>\n",
       "    </tr>\n",
       "    <tr>\n",
       "      <th>2</th>\n",
       "      <td>1037568</td>\n",
       "      <td>1037568.txt</td>\n",
       "      <td>No mentions of diabetes or HbA1c</td>\n",
       "      <td>NaN</td>\n",
       "      <td>NaN</td>\n",
       "      <td>NaN</td>\n",
       "      <td>NaN</td>\n",
       "      <td>NaN</td>\n",
       "      <td>NaN</td>\n",
       "      <td>NaN</td>\n",
       "      <td>True_Negative</td>\n",
       "    </tr>\n",
       "    <tr>\n",
       "      <th>3</th>\n",
       "      <td>1129782</td>\n",
       "      <td>1129782.txt</td>\n",
       "      <td>No mentions of diabetes or HbA1c</td>\n",
       "      <td>NaN</td>\n",
       "      <td>NaN</td>\n",
       "      <td>NaN</td>\n",
       "      <td>NaN</td>\n",
       "      <td>NaN</td>\n",
       "      <td>NaN</td>\n",
       "      <td>NaN</td>\n",
       "      <td>True_Negative</td>\n",
       "    </tr>\n",
       "    <tr>\n",
       "      <th>4</th>\n",
       "      <td>114118</td>\n",
       "      <td>114118.txt</td>\n",
       "      <td>No mentions of diabetes or HbA1c</td>\n",
       "      <td>NaN</td>\n",
       "      <td>NaN</td>\n",
       "      <td>NaN</td>\n",
       "      <td>NaN</td>\n",
       "      <td>NaN</td>\n",
       "      <td>NaN</td>\n",
       "      <td>NaN</td>\n",
       "      <td>True_Negative</td>\n",
       "    </tr>\n",
       "  </tbody>\n",
       "</table>\n",
       "</div>"
      ],
      "text/plain": [
       "   Identifier         File                          Sentence  HbA1c Start  \\\n",
       "0     1028562  1028562.txt  No mentions of diabetes or HbA1c    NaN   NaN   \n",
       "1     1032480  1032480.txt  No mentions of diabetes or HbA1c    NaN   NaN   \n",
       "2     1037568  1037568.txt  No mentions of diabetes or HbA1c    NaN   NaN   \n",
       "3     1129782  1129782.txt  No mentions of diabetes or HbA1c    NaN   NaN   \n",
       "4      114118   114118.txt  No mentions of diabetes or HbA1c    NaN   NaN   \n",
       "\n",
       "  Stop Phrase Annotation_Type  A1c_Value A1c_Flag       Category  \n",
       "0  NaN    NaN             NaN        NaN      NaN  True_Negative  \n",
       "1  NaN    NaN             NaN        NaN      NaN  True_Negative  \n",
       "2  NaN    NaN             NaN        NaN      NaN  True_Negative  \n",
       "3  NaN    NaN             NaN        NaN      NaN  True_Negative  \n",
       "4  NaN    NaN             NaN        NaN      NaN  True_Negative  "
      ]
     },
     "execution_count": 26,
     "metadata": {},
     "output_type": "execute_result"
    }
   ],
   "source": [
    "Merged_Manual_and_Machine.head()"
   ]
  },
  {
   "cell_type": "code",
   "execution_count": 27,
   "metadata": {},
   "outputs": [],
   "source": [
    "Merged_Manual_and_Machine.to_csv(\"Output_Files/Test_Dataset_A1c_Result_Comparison.csv\")"
   ]
  },
  {
   "cell_type": "code",
   "execution_count": 28,
   "metadata": {
    "scrolled": true
   },
   "outputs": [
    {
     "data": {
      "text/plain": [
       "Category\n",
       "True_Negative    58\n",
       "True_Positive    17\n",
       "dtype: int64"
      ]
     },
     "execution_count": 28,
     "metadata": {},
     "output_type": "execute_result"
    }
   ],
   "source": [
    "results = Merged_Manual_and_Machine.groupby([\"Category\"]).size()\n",
    "results"
   ]
  },
  {
   "cell_type": "markdown",
   "metadata": {},
   "source": [
    "Again, this never gave anything where it grabbed a value that was the wrong value. This is pretty robust to only grab the correct value if it grabs one. I did not see any of these in the dataset, but if there was one that said \"HbA1c last week of about 6.8%\" it wouldn't pick it up. I have deleted all MIMIC added comments, and the only one I saw in the training dataset with a time in the middle was a MIMIC comment. Anyways, again I got 100%\n",
    "\n",
    "I only have two possibilities here (Yes, A1c value or no, no A1c value)\n",
    "<br>Below, TP = True positives, TN = True Negatives, FP = False Positives, FN = False Negatives\n",
    "\n",
    "Recall Yes A1c = TP/(TP+FP) = 17/(17+0) = 1\n",
    "<br>Precision Yes A1c = TP/(TP+FN) = 17/(17+0) = 1\n",
    "<br>F-Measure = 2xPrecisionxRecall/(Precision + Recall) = 2x1x1/(1+1) = 1\n",
    "\n",
    "Accuracy = (TP + TN)/total = (58+17)/75 = 1\n",
    "<br>NPV = TN/(FN+TN) = 58/(0+58) = 1\n",
    "<br>PPV = TP/(TP+FP) = 17/(17+0) = 1\n",
    "<br>Sens = TP/(TP+FN) = 17/(17+0) = 1\n",
    "<br>Spec = TN/(FP+TN) = 58/(0+58) = 1\n"
   ]
  },
  {
   "cell_type": "code",
   "execution_count": null,
   "metadata": {},
   "outputs": [],
   "source": []
  },
  {
   "cell_type": "code",
   "execution_count": null,
   "metadata": {},
   "outputs": [],
   "source": []
  }
 ],
 "metadata": {
  "kernelspec": {
   "display_name": "Python 3",
   "language": "python",
   "name": "python3"
  },
  "language_info": {
   "codemirror_mode": {
    "name": "ipython",
    "version": 3
   },
   "file_extension": ".py",
   "mimetype": "text/x-python",
   "name": "python",
   "nbconvert_exporter": "python",
   "pygments_lexer": "ipython3",
   "version": "3.7.1"
  },
  "toc": {
   "base_numbering": 1,
   "nav_menu": {},
   "number_sections": true,
   "sideBar": true,
   "skip_h1_title": false,
   "title_cell": "Table of Contents",
   "title_sidebar": "Contents",
   "toc_cell": false,
   "toc_position": {},
   "toc_section_display": true,
   "toc_window_display": true
  }
 },
 "nbformat": 4,
 "nbformat_minor": 2
}
